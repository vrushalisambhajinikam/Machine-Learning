{
 "cells": [
  {
   "cell_type": "code",
   "execution_count": 1,
   "metadata": {},
   "outputs": [],
   "source": [
    "import pandas as pd\n",
    "import matplotlib.pyplot as plt"
   ]
  },
  {
   "cell_type": "code",
   "execution_count": 2,
   "metadata": {},
   "outputs": [],
   "source": [
    "\n",
    "# Function to input daily expenses\n",
    "def input_expenses():\n",
    "    expenses = []\n",
    "    while True:\n",
    "        date_input = input(\"Enter the date (YYYY-MM-DD) or 'stop' to finish: \")\n",
    "        if date_input.lower() == 'stop':\n",
    "            break\n",
    "        amount_input = float(input(\"Enter the expense amount: \"))\n",
    "        expenses.append({'date': date_input, 'amount': amount_input})\n",
    "    return expenses"
   ]
  },
  {
   "cell_type": "code",
   "execution_count": 3,
   "metadata": {},
   "outputs": [],
   "source": [
    "# Function to analyze the expenses\n",
    "def analyze_expenses(expenses):\n",
    "    # Create a DataFrame\n",
    "    df = pd.DataFrame(expenses)\n",
    "    df['date'] = pd.to_datetime(df['date'])  # Convert to datetime\n",
    "    df.set_index('date', inplace=True)  # Set date as index\n",
    "\n",
    "    # Calculate total expenses\n",
    "    total_expenses = df['amount'].sum()\n",
    "    print(f\"Total Expenses: ${total_expenses:.2f}\")\n",
    "\n",
    "    # Calculate daily average\n",
    "    daily_average = df['amount'].mean()\n",
    "    print(f\"Daily Average Spending: ${daily_average:.2f}\")\n",
    "\n",
    "    # Calculate rolling mean (moving average) with a window of 3\n",
    "    df['rolling_mean'] = df['amount'].rolling(window=3).mean()\n",
    "    \n",
    "    return df"
   ]
  },
  {
   "cell_type": "code",
   "execution_count": 4,
   "metadata": {},
   "outputs": [],
   "source": [
    "# Function to plot the expenses\n",
    "def plot_expenses(df):\n",
    "    plt.figure(figsize=(12, 6))\n",
    "    plt.plot(df.index, df['amount'], label='Daily Expenses', marker='o', linestyle='-', color='lightgray')\n",
    "    plt.plot(df.index, df['rolling_mean'], label='Rolling Mean (3 Days)', color='blue', linewidth=2)\n",
    "    plt.title('Daily Expenses Tracker')\n",
    "    plt.xlabel('Date')\n",
    "    plt.ylabel('Expense Amount ($)')\n",
    "    plt.legend()\n",
    "    plt.xticks(rotation=45)\n",
    "    plt.tight_layout()\n",
    "    plt.show()"
   ]
  },
  {
   "cell_type": "code",
   "execution_count": 5,
   "metadata": {},
   "outputs": [
    {
     "name": "stdout",
     "output_type": "stream",
     "text": [
      "Welcome to the Personal Finance Tracker!\n",
      "Enter the date (YYYY-MM-DD) or 'stop' to finish: 2024-10-2\n",
      "Enter the expense amount: 1000\n",
      "Enter the date (YYYY-MM-DD) or 'stop' to finish: 2024-10-2\n",
      "Enter the expense amount: 659\n",
      "Enter the date (YYYY-MM-DD) or 'stop' to finish: 2024-10-2\n",
      "Enter the expense amount: 6544\n",
      "Enter the date (YYYY-MM-DD) or 'stop' to finish: 2024-10-2\n",
      "Enter the expense amount: 210\n",
      "Enter the date (YYYY-MM-DD) or 'stop' to finish: 2024-10-2\n",
      "Enter the expense amount: 652\n",
      "Enter the date (YYYY-MM-DD) or 'stop' to finish: 2024-10-2\n",
      "Enter the expense amount: 200\n",
      "Enter the date (YYYY-MM-DD) or 'stop' to finish: stop\n",
      "Total Expenses: $9265.00\n",
      "Daily Average Spending: $1544.17\n"
     ]
    },
    {
     "data": {
      "image/png": "[encoded data removed]",
      "text/plain": [
       "<Figure size 864x432 with 1 Axes>"
      ]
     },
     "metadata": {
      "needs_background": "light"
     },
     "output_type": "display_data"
    }
   ],
   "source": [
    "# Main function to run the application\n",
    "def main():\n",
    "    print(\"Welcome to the Personal Finance Tracker!\")\n",
    "    expenses = input_expenses()  # Input expenses from the user\n",
    "    if not expenses:\n",
    "        print(\"No expenses entered. Exiting.\")\n",
    "        return\n",
    "\n",
    "    df = analyze_expenses(expenses)  # Analyze the expenses\n",
    "    plot_expenses(df)  # Plot the expenses\n",
    "\n",
    "if __name__ == '__main__':\n",
    "    main()"
   ]
  },
  {
   "cell_type": "code",
   "execution_count": null,
   "metadata": {},
   "outputs": [],
   "source": []
  },
  {
   "cell_type": "code",
   "execution_count": null,
   "metadata": {},
   "outputs": [],
   "source": []
  },
  {
   "cell_type": "code",
   "execution_count": null,
   "metadata": {},
   "outputs": [],
   "source": []
  },
  {
   "cell_type": "code",
   "execution_count": null,
   "metadata": {},
   "outputs": [],
   "source": []
  },
  {
   "cell_type": "code",
   "execution_count": null,
   "metadata": {},
   "outputs": [],
   "source": []
  },
  {
   "cell_type": "code",
   "execution_count": null,
   "metadata": {},
   "outputs": [],
   "source": []
  },
  {
   "cell_type": "code",
   "execution_count": null,
   "metadata": {},
   "outputs": [],
   "source": []
  },
  {
   "cell_type": "code",
   "execution_count": null,
   "metadata": {},
   "outputs": [],
   "source": []
  },
  {
   "cell_type": "code",
   "execution_count": null,
   "metadata": {},
   "outputs": [],
   "source": []
  },
  {
   "cell_type": "code",
   "execution_count": null,
   "metadata": {},
   "outputs": [],
   "source": []
  }
 ],
 "metadata": {
  "kernelspec": {
   "display_name": "Python 3",
   "language": "python",
   "name": "python3"
  },
  "language_info": {
   "codemirror_mode": {
    "name": "ipython",
    "version": 3
   },
   "file_extension": ".py",
   "mimetype": "text/x-python",
   "name": "python",
   "nbconvert_exporter": "python",
   "pygments_lexer": "ipython3",
   "version": "3.8.5"
  }
 },
 "nbformat": 4,
 "nbformat_minor": 4
}
